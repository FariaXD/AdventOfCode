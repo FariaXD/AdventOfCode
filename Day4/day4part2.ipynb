{
 "cells": [
  {
   "cell_type": "code",
   "execution_count": 47,
   "metadata": {},
   "outputs": [],
   "source": [
    "lines = []\n",
    "with open('input.txt', 'r') as file:\n",
    "    lines = file.read().splitlines()"
   ]
  },
  {
   "cell_type": "code",
   "execution_count": 48,
   "metadata": {},
   "outputs": [],
   "source": [
    "cards_dict = {}\n",
    "def create_dict(input):\n",
    "    for i in range(len(input)):\n",
    "        cards_dict[i+1] = 0 "
   ]
  },
  {
   "cell_type": "code",
   "execution_count": 49,
   "metadata": {},
   "outputs": [],
   "source": [
    "def check_card(i):\n",
    "    card, j = i.split(\":\")\n",
    "    game_numbers, lottery_numbers = j.strip().split(\"|\")\n",
    "    game_numbers = list(map(int, game_numbers.strip().split()))\n",
    "    lottery_numbers = list(map(int, lottery_numbers.strip().split()))\n",
    "    correct_numbers = list(set(game_numbers) & set(lottery_numbers))\n",
    "    return int(card.split()[1]), correct_numbers"
   ]
  },
  {
   "cell_type": "code",
   "execution_count": 50,
   "metadata": {},
   "outputs": [],
   "source": [
    "def insert_dict(card_numb, correct_numbers):\n",
    "    cards_dict[card_numb] += 1\n",
    "    for i in range(len(correct_numbers)):\n",
    "        cards_dict[card_numb+i+1] += cards_dict[card_numb]"
   ]
  },
  {
   "cell_type": "code",
   "execution_count": 53,
   "metadata": {},
   "outputs": [
    {
     "name": "stdout",
     "output_type": "stream",
     "text": [
      "9721255\n"
     ]
    }
   ],
   "source": [
    "create_dict(lines)\n",
    "for i in lines:     \n",
    "    a,b = check_card(i)\n",
    "    insert_dict(a,b)\n",
    "print(sum(cards_dict.values()))"
   ]
  }
 ],
 "metadata": {
  "kernelspec": {
   "display_name": "Python 3",
   "language": "python",
   "name": "python3"
  },
  "language_info": {
   "codemirror_mode": {
    "name": "ipython",
    "version": 3
   },
   "file_extension": ".py",
   "mimetype": "text/x-python",
   "name": "python",
   "nbconvert_exporter": "python",
   "pygments_lexer": "ipython3",
   "version": "3.10.4"
  }
 },
 "nbformat": 4,
 "nbformat_minor": 2
}
